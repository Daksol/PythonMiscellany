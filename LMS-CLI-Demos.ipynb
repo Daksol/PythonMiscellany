{
 "cells": [
  {
   "cell_type": "markdown",
   "id": "3e6b35e6-3d42-4399-a845-6482b2f1e880",
   "metadata": {},
   "source": [
    "# LMS CLI Python Code Examples"
   ]
  },
  {
   "cell_type": "markdown",
   "id": "3b062f93-d4ac-4fa0-a72b-9008f8c3a6a0",
   "metadata": {},
   "source": [
    "## Make sure it works - serverstatus"
   ]
  },
  {
   "cell_type": "code",
   "execution_count": 1,
   "id": "bcb6ff7a-9ee4-4ce9-8f6b-b0e0a06a184f",
   "metadata": {},
   "outputs": [
    {
     "name": "stdout",
     "output_type": "stream",
     "text": [
      "{'lastscan': '1721448044', 'version': '9.0.0', 'uuid': '9caf975e-f502-47db-ad3e-135ab16a86fa', 'ip': '192.168.5.75', 'httpport': '9005', 'info total albums': 589, 'info total artists': 623, 'info total genres': 108, 'info total songs': 9615, 'info total duration': 7477002.51200002, 'player count': 4, 'other player count': 0}\n"
     ]
    }
   ],
   "source": [
    "from lms_jsonrpc_module import lms_jsonrpc\n",
    "myLMS = ('192.168.5.75', '9005')\n",
    "\n",
    "print(lms_jsonrpc(lms=myLMS, cmdlist=['serverstatus']))"
   ]
  },
  {
   "cell_type": "markdown",
   "id": "b3f41d4c-4160-43f3-be93-9e947511d880",
   "metadata": {},
   "source": [
    "## Using player command"
   ]
  },
  {
   "cell_type": "code",
   "execution_count": 7,
   "id": "ec60de4b-c3c7-4358-9e68-51e45c6bec08",
   "metadata": {},
   "outputs": [
    {
     "name": "stdout",
     "output_type": "stream",
     "text": [
      "Player count:4\n",
      "0 00:04:20:2a:e0:74 Runcible Red\n",
      "1 a0:ce:c8:ce:a1:3b SLX-Local\n",
      "2 00:04:20:2a:c8:20 Scarlet Study\n",
      "3 00:04:20:28:c7:f1 Stalking Horse\n"
     ]
    }
   ],
   "source": [
    "from lms_jsonrpc_module import lms_jsonrpc\n",
    "myLMS = ('192.168.5.75', '9005')\n",
    "\n",
    "playercount = lms_jsonrpc(lms=myLMS, cmdlist=['player', 'count', '?'])['_count']\n",
    "print(f'Player count:{playercount}')\n",
    "\n",
    "for p_index in range(playercount):\n",
    "    p_id = lms_jsonrpc(lms=myLMS, cmdlist=['player', 'id',p_index, '?'])['_id']\n",
    "    p_name = lms_jsonrpc(lms=myLMS, cmdlist=['player', 'name',p_index, '?'])['_name']\n",
    "    print(p_index, p_id, p_name)"
   ]
  },
  {
   "cell_type": "code",
   "execution_count": null,
   "id": "371bbd6e-b8d6-40cf-9e40-97b49a019d03",
   "metadata": {},
   "outputs": [],
   "source": []
  }
 ],
 "metadata": {
  "kernelspec": {
   "display_name": "Python 3 (ipykernel)",
   "language": "python",
   "name": "python3"
  },
  "language_info": {
   "codemirror_mode": {
    "name": "ipython",
    "version": 3
   },
   "file_extension": ".py",
   "mimetype": "text/x-python",
   "name": "python",
   "nbconvert_exporter": "python",
   "pygments_lexer": "ipython3",
   "version": "3.11.9"
  }
 },
 "nbformat": 4,
 "nbformat_minor": 5
}
