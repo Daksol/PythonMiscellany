{
 "cells": [
  {
   "cell_type": "markdown",
   "id": "92ef9796-c61c-41b1-a1bf-27107d23fb87",
   "metadata": {},
   "source": [
    "### go to website and click accept all cookies"
   ]
  },
  {
   "cell_type": "code",
   "execution_count": 1,
   "id": "89d43a55-00ee-4712-a6d0-cbb58e9e9f5c",
   "metadata": {},
   "outputs": [
    {
     "name": "stdout",
     "output_type": "stream",
     "text": [
      "Program started run at UTC time:2021-11-05T153929Z\n"
     ]
    }
   ],
   "source": [
    "#General\n",
    "import time\n",
    "import datetime\n",
    "\n",
    "from selenium.webdriver.common.keys import Keys\n",
    "from selenium import webdriver\n",
    "from selenium.webdriver import ChromeOptions\n",
    "\n",
    "myBaseURL = \"https://www.just-eat.co.uk/restaurants-pretamanger-tothillstreetlondon/menu\"\n",
    "\n",
    "DateTimeStart = datetime.datetime.strftime(datetime.datetime.utcnow(),'%Y-%m-%dT%H%M%SZ')\n",
    "DateTimeStampUTC = \"Program started run at UTC time:\" + DateTimeStart\n",
    "print(DateTimeStampUTC)\n",
    "\n",
    "#browser setup\n",
    "driver = webdriver.Chrome()\n",
    "ChromeOptions.headless = False\n",
    "#driver.set_window_size(2400,1600)\n",
    "driver.maximize_window()\n",
    "\n",
    "driver.get(myBaseURL)\n",
    "\n",
    "#accept all cookies\n",
    "for buttonObject in driver.find_elements_by_tag_name(\"Button\"):\n",
    "    if buttonObject.text == \"Accept all cookies\":\n",
    "        buttonObject.click()\n",
    "        break\n"
   ]
  },
  {
   "cell_type": "markdown",
   "id": "035de9f3-7e64-4647-b80a-69797d764182",
   "metadata": {},
   "source": [
    "### List the main categories and show the selection for this query\n",
    "\n",
    "#### MENU SUBHEADINGS\n",
    "* breakfast-and-bakery\n",
    "* coffee-and-hot-drinks\n",
    "* iced-coffee-and-smoothies\n",
    "* treats-and-snacks\n",
    "* yoghurt-and-fruit\n",
    "* cold-drinks"
   ]
  },
  {
   "cell_type": "code",
   "execution_count": 2,
   "id": "a9fbc467-13af-480f-9eba-63a02fbfcf19",
   "metadata": {},
   "outputs": [
    {
     "name": "stdout",
     "output_type": "stream",
     "text": [
      "Program started run at UTC time:2021-11-05T153929Z\n",
      "========================================\n",
      "MENU SUBHEADINGS\n",
      "breakfast-and-bakery\n",
      "coffee-and-hot-drinks\n",
      "iced-coffee-and-smoothies\n",
      "treats-and-snacks\n",
      "yoghurt-and-fruit\n",
      "cold-drinks\n"
     ]
    }
   ],
   "source": [
    "print(DateTimeStampUTC)\n",
    "print('='*40)\n",
    "\n",
    "# This only lists the main menu categories. Code not actually used\n",
    "print(\"MENU SUBHEADINGS\")\n",
    "for menu_Heading in driver.find_elements_by_tag_name(\"header\"):\n",
    "    if menu_Heading.get_attribute('data-test-id') == 'category-header':\n",
    "        button_Object = menu_Heading.find_element_by_tag_name('button')\n",
    "        button_H2 = button_Object.find_element_by_tag_name('h2')\n",
    "        print(button_H2.get_attribute('id'))\n",
    "\n",
    "# These are the choices\n",
    "#The code as it stands has not had the \"scroll to item\" added as yet\n",
    "#so it only works for menu choices high on the list\n",
    "theOrderMenuHeading = 'coffee-and-hot-drinks'\n",
    "theItemType = 'Flat White'\n",
    "theItemSubType = 'Skinny Flat White'\n",
    "thePostCode = 'BS7 8RG'\n"
   ]
  },
  {
   "cell_type": "markdown",
   "id": "76f32a5b-5b6d-4281-be79-47e013d13da2",
   "metadata": {},
   "source": [
    "### Go to the set of main category links top left on page, and click chosen one\n",
    "\n"
   ]
  },
  {
   "cell_type": "code",
   "execution_count": 3,
   "id": "00d33a11-4715-4ca9-b043-a39321cf4b8e",
   "metadata": {},
   "outputs": [
    {
     "name": "stdout",
     "output_type": "stream",
     "text": [
      "Program started run at UTC time:2021-11-05T153929Z\n",
      "Menu Category = coffee-and-hot-drinks\n",
      "========================================\n",
      "Jumping to coffee-and-hot-drinks\n",
      "Now the category has been selected with first few items visible\n"
     ]
    }
   ],
   "source": [
    "print(DateTimeStampUTC)\n",
    "print('Menu Category =', theOrderMenuHeading)\n",
    "print('='*40)\n",
    "\n",
    "menu_HeadingLinksList =  driver.find_element_by_class_name('c-menu')\n",
    "for menu_LinksItem in menu_HeadingLinksList.find_elements_by_tag_name('li'):\n",
    "    linkObject = menu_LinksItem.find_element_by_tag_name('a')\n",
    "    linkURL = linkObject.get_attribute(\"href\")\n",
    "    if theOrderMenuHeading in linkURL:\n",
    "        print('Jumping to', theOrderMenuHeading)\n",
    "        linkObject.click()\n",
    "print('Now the category has been selected with first few items visible')"
   ]
  },
  {
   "cell_type": "markdown",
   "id": "284f4016-4160-423f-9331-9616affe44fa",
   "metadata": {},
   "source": [
    "### Find the selected item type, and click it\n",
    "\n",
    "#### Drinks available for section coffee-and-hot-drinks\n",
    "* Latte\n",
    "* Flat White\n",
    "* Mocha\n",
    "* Hot Chocolate\n",
    "* Americano\n",
    "* Filter Coffee\n",
    "* Espresso\n",
    "* Macchiato\n",
    "* Chai Latte\n",
    "* Matcha Latte\n",
    "* Turmeric Latte\n",
    "* Breakfast Tea\n",
    "* Peppermint Tea\n",
    "* Green Tea\n",
    "\n",
    "now go down through the popup window to select the right milk type\n"
   ]
  },
  {
   "cell_type": "code",
   "execution_count": 4,
   "id": "fa0930f3-21a7-4016-820e-27e58e86a186",
   "metadata": {},
   "outputs": [
    {
     "name": "stdout",
     "output_type": "stream",
     "text": [
      "Program started run at UTC time:2021-11-05T153929Z\n",
      "Sectionchosen= coffee-and-hot-drinks\n",
      "Drink type chosen= Flat White\n",
      "========================================\n",
      "Looking at section coffee-and-hot-drinks\n",
      "Clicking button for Flat White\n",
      "That should leave the popup offering selection of milk types\n"
     ]
    }
   ],
   "source": [
    "print(DateTimeStampUTC)\n",
    "print('Sectionchosen=', theOrderMenuHeading)\n",
    "print('Drink type chosen=', theItemType)\n",
    "print('='*40)\n",
    "\n",
    "for menu_Section in driver.find_elements_by_tag_name(\"section\"):\n",
    "    if menu_Section.get_attribute('data-test-id') == 'menu-category-item':\n",
    "        menu_H2 = menu_Section.find_element_by_tag_name('h2')\n",
    "        section_header_text = menu_H2.get_attribute('id')\n",
    "        if section_header_text == theOrderMenuHeading:\n",
    "            print('Looking at section', section_header_text)\n",
    "            for menuItem in menu_Section.find_elements_by_tag_name('div'):\n",
    "                if menuItem.get_attribute('data-test-id') == 'menu-item':\n",
    "                    for h3tag in menuItem.find_elements_by_tag_name('h3'):\n",
    "                        if (h3tag.get_attribute('data-js-test') == 'menu-item-name' and\n",
    "                        h3tag.get_attribute('data-test-id') =='menu-item-name'):\n",
    "                            #print(h3tag.text)\n",
    "                            if h3tag.text == theItemType:\n",
    "                                theButton = menuItem.find_element_by_tag_name('button')\n",
    "                                print('Clicking button for', h3tag.text)\n",
    "                                theButton.click()\n",
    "                                break\n",
    "print(\"That should leave the popup offering selection of milk types\")"
   ]
  },
  {
   "cell_type": "markdown",
   "id": "426ece8f-4643-409e-88df-658b80705133",
   "metadata": {},
   "source": [
    "### Here trying to select the milk type\n",
    "\n",
    "#### Milk types are\n",
    "* Flat White\n",
    "* Skinny Flat White\n",
    "* Oat Flat White\n",
    "* Soya Flat White\n",
    "* Coconut Flat White\n",
    "* Decaf Flat White\n",
    "* Flat W Skinny Decaf\n",
    "* Flat W Coco Decaf\n",
    "* Flat W Soya Decaf\n",
    "* Flat W Oat Decaf\n"
   ]
  },
  {
   "cell_type": "code",
   "execution_count": 5,
   "id": "aec6e4f0-407d-48ab-b9da-94c9c24b5553",
   "metadata": {},
   "outputs": [
    {
     "name": "stdout",
     "output_type": "stream",
     "text": [
      "Program started run at UTC time:2021-11-05T153929Z\n",
      "This block we go through the popup options and click one milk type\n",
      "Section found with chosen milk type Flat White\n",
      "So now we have selected category, drink type, milk type - and can click on 'Add to Order'\n"
     ]
    }
   ],
   "source": [
    "print(DateTimeStampUTC)\n",
    "print('This block we go through the popup options and click one milk type')\n",
    "theItemSubType = 'Flat White'\n",
    "milkChoiceList = driver.find_element_by_class_name(\"c-itemSelector-choices\")\n",
    "for someMilkOption in milkChoiceList.find_elements_by_class_name('c-itemSelector-section-row'):\n",
    "    for someSpan in someMilkOption.find_elements_by_tag_name('span'):\n",
    "        if someSpan.get_attribute('data-test-id') =='single-select-name':\n",
    "            #print(someSpan.text)\n",
    "            if someSpan.text == theItemSubType:\n",
    "                print('Section found with chosen milk type', theItemSubType)\n",
    "                radioButton = someMilkOption.find_element_by_tag_name('input')\n",
    "                someMilkOption.click()\n",
    "                break\n",
    "print(\"So now we have selected category, drink type, milk type - and can click on 'Add to Order'\")"
   ]
  },
  {
   "cell_type": "markdown",
   "id": "ed2c8314-8e35-4ea6-813d-4b80be36156b",
   "metadata": {},
   "source": [
    "### NOw click the final button\n",
    "\n",
    "<div class=\"c-modal-actions\">\n",
    "    <button type=\"button\" data-test-id=\"add-to-basket\"\n",
    "            class=\"o-btn o-btn--primary o-btn--fullWidth u-spacingTop u-spaceBetween\">\n",
    "        <span>  Add to order  </span> \n",
    "        <span data-test-id=\"total-price\" class=\"notranslate\">  £3.25  </span>\n",
    "    </button>\n",
    "</div>"
   ]
  },
  {
   "cell_type": "code",
   "execution_count": 6,
   "id": "d1179ed8-314f-4df8-961a-8169c519b6ea",
   "metadata": {},
   "outputs": [
    {
     "name": "stdout",
     "output_type": "stream",
     "text": [
      "Program started run at UTC time:2021-11-05T153929Z\n",
      "Now click the Add-to-order button\n"
     ]
    }
   ],
   "source": [
    "print(DateTimeStampUTC)\n",
    "print('Now click the Add-to-order button')\n",
    "AddToOrderButtonObject = driver.find_element_by_class_name('c-modal-actions')\n",
    "AddToOrderButtonObject.click()\n"
   ]
  },
  {
   "cell_type": "markdown",
   "id": "20a9d742-7668-4c60-b903-f88f936af7ce",
   "metadata": {},
   "source": [
    "### Now the postcode button\n",
    "\n",
    "<div class=\"Form_c-search-fieldWrapper_PaaDD\">\n",
    "    <div class=\"Form_c-search-inputWrapper_1b2Cy\">\n",
    "        <label class=\"Form_c-search-label_cVBKJ\">\n",
    "            <input name=\"postcode\" data-test-id=\"address-box-input\" aria-label=\"Enter your postcode\" autocomplete=\"on\" class=\"Form_c-search-input_3ySg3\" isnumeric=\"false\" type=\"text\">\n",
    "            <span class=\"Form_c-search-placeholder_2F0h-\">Enter your postcode</span>\n",
    "            <div class=\"Form_c-spinner-wrapper_2aNvK\"></div>\n",
    "        </label><div class=\"Form_c-search-innerFields_1L7FI\">\n",
    "    </div>\n",
    "    <button type=\"submit\" data-test-id=\"find-restaurants-button\" aria-label=\"Confirm\" class=\"Form_c-search-btn_2cjDI\">\n",
    "        <div class=\"Form_c-search-btn-icon_mWFQK\">\n",
    "            <span class=\"u-showBelowMid\">  OK   </span>\n",
    "        </div>\n",
    "        <span class=\"Form_c-search-btn-text_6RDDX\">Confirm</span>\n",
    "    </button>\n",
    "</div>"
   ]
  },
  {
   "cell_type": "code",
   "execution_count": 7,
   "id": "bdfc0006-a74f-4a5a-a3a2-200e50e1e264",
   "metadata": {},
   "outputs": [
    {
     "name": "stdout",
     "output_type": "stream",
     "text": [
      "Program started run at UTC time:2021-11-05T153929Z\n",
      "Now enter postcode and click the Add-to-order button\n"
     ]
    }
   ],
   "source": [
    "print(DateTimeStampUTC)\n",
    "print('Now enter postcode and click the Add-to-order button')\n",
    "PostCodeDialogDiv = driver.find_element_by_class_name('Form_c-search-fieldWrapper_PaaDD')\n",
    "\n",
    "#enter postcode\n",
    "PostCodeEntryInput = PostCodeDialogDiv.find_element_by_tag_name('input')\n",
    "PostCodeEntryInput.send_keys(thePostCode)\n",
    "\n",
    "#click to confirm\n",
    "PostCodeDialogDiv.find_element_by_class_name('Form_c-search-btn-text_6RDDX').click()\n"
   ]
  },
  {
   "cell_type": "code",
   "execution_count": null,
   "id": "50f07cf8-773b-457e-b821-88b273cad15a",
   "metadata": {},
   "outputs": [],
   "source": []
  }
 ],
 "metadata": {
  "kernelspec": {
   "display_name": "Python 3.9 (XPython)",
   "language": "python",
   "name": "xpython"
  },
  "language_info": {
   "file_extension": ".py",
   "mimetype": "text/x-python",
   "name": "python",
   "version": "3.9.7"
  }
 },
 "nbformat": 4,
 "nbformat_minor": 5
}
