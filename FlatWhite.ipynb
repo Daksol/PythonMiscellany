{
 "cells": [
  {
   "cell_type": "markdown",
   "id": "92ef9796-c61c-41b1-a1bf-27107d23fb87",
   "metadata": {},
   "source": [
    "### go to website and click accept all cookies"
   ]
  },
  {
   "cell_type": "code",
   "execution_count": 1,
   "id": "89d43a55-00ee-4712-a6d0-cbb58e9e9f5c",
   "metadata": {},
   "outputs": [
    {
     "name": "stdout",
     "output_type": "stream",
     "text": [
      "Program started run at UTC time:2021-11-11T212138Z\n"
     ]
    }
   ],
   "source": [
    "#General\n",
    "import time\n",
    "import datetime\n",
    "\n",
    "from selenium.webdriver.common.keys import Keys\n",
    "from selenium import webdriver\n",
    "#from selenium.webdriver import ChromeOptions\n",
    "\n",
    "myBaseURL = \"https://www.just-eat.co.uk/restaurants-pretamanger-tothillstreetlondon/menu\"\n",
    "\n",
    "DateTimeStart = datetime.datetime.strftime(datetime.datetime.utcnow(),'%Y-%m-%dT%H%M%SZ')\n",
    "DateTimeStampUTC = \"Program started run at UTC time:\" + DateTimeStart\n",
    "print(DateTimeStampUTC)\n",
    "\n",
    "#browser setup\n",
    "driver = webdriver.Chrome()\n",
    "#driver = webdriver.Firefox()\n",
    "#ChromeOptions.headless = False\n",
    "#driver.set_window_size(2400,1600)\n",
    "driver.maximize_window()\n",
    "\n",
    "driver.get(myBaseURL)\n",
    "\n",
    "#accept all cookies\n",
    "for buttonObject in driver.find_elements_by_tag_name(\"Button\"):\n",
    "    if buttonObject.text == \"Accept all cookies\":\n",
    "        buttonObject.click()\n",
    "        break\n"
   ]
  },
  {
   "cell_type": "markdown",
   "id": "035de9f3-7e64-4647-b80a-69797d764182",
   "metadata": {},
   "source": [
    "### List the main categories and show the selection for this query\n",
    "\n",
    "#### MENU SUBHEADINGS\n",
    "* Breakfast & Bakery\n",
    "* etc\n"
   ]
  },
  {
   "cell_type": "code",
   "execution_count": 2,
   "id": "a9fbc467-13af-480f-9eba-63a02fbfcf19",
   "metadata": {},
   "outputs": [
    {
     "name": "stdout",
     "output_type": "stream",
     "text": [
      "Program started run at UTC time:2021-11-11T212138Z\n",
      "========================================\n",
      "MENU SUBHEADINGS\n",
      "christmas-menu\n",
      "breakfast-and-bakery\n",
      "sandwiches-salads-baguettes-and-wraps\n",
      "coffee-and-hot-drinks\n",
      "iced-coffee-and-smoothies\n",
      "treats-and-snacks\n",
      "yoghurt-and-fruit\n",
      "cold-drinks\n"
     ]
    }
   ],
   "source": [
    "print(DateTimeStampUTC)\n",
    "print('='*40)\n",
    "\n",
    "# This only lists the main menu categories. Code not actually used\n",
    "print(\"MENU SUBHEADINGS\")\n",
    "for menu_Heading in driver.find_elements_by_tag_name(\"header\"):\n",
    "    if menu_Heading.get_attribute('data-test-id') == 'category-header':\n",
    "        button_Object = menu_Heading.find_element_by_tag_name('button')\n",
    "        button_H2 = button_Object.find_element_by_tag_name('h2')\n",
    "        print(button_H2.get_attribute('id'))\n",
    "\n",
    "# These are the choices\n",
    "#The code as it stands has not had the \"scroll to item\" added as yet\n",
    "#so it only works for menu choices high on the list\n",
    "theOrderMenuHeading = 'coffee-and-hot-drinks'\n",
    "theItemType = 'Gingerbread Latte'\n",
    "theItemSubType = 'Gingerbread Latte Soya Decaf'\n",
    "thePostCode = 'BS7 8RG'\n"
   ]
  },
  {
   "cell_type": "markdown",
   "id": "76f32a5b-5b6d-4281-be79-47e013d13da2",
   "metadata": {},
   "source": [
    "### Go to the set of main category links top left on page, and click one, the list its suboptions\n",
    "\n"
   ]
  },
  {
   "cell_type": "code",
   "execution_count": 3,
   "id": "00d33a11-4715-4ca9-b043-a39321cf4b8e",
   "metadata": {},
   "outputs": [
    {
     "name": "stdout",
     "output_type": "stream",
     "text": [
      "Program started run at UTC time:2021-11-11T212138Z\n",
      "Menu Category = coffee-and-hot-drinks\n",
      "========================================\n",
      "Jumping to coffee-and-hot-drinks\n",
      "Scrolling as required\n",
      "----------------------------------------\n",
      "Selections in this item menu\n",
      "Latte\n",
      "Flat White\n",
      "Mocha\n",
      "Hot Chocolate\n",
      "Americano\n",
      "Filter Coffee\n",
      "Espresso\n",
      "Macchiato\n",
      "Matcha Latte\n",
      "Turmeric Latte\n",
      "Breakfast Tea\n",
      "Peppermint Tea\n",
      "Green Tea\n",
      "Gingerbread Latte\n",
      "----------------------------------------\n",
      "So now in right place for selected menu setion\n"
     ]
    }
   ],
   "source": [
    "print(DateTimeStampUTC)\n",
    "print('Menu Category =', theOrderMenuHeading)\n",
    "print('='*40)\n",
    "\n",
    "menu_HeadingLinksList =  driver.find_element_by_class_name('c-menu')\n",
    "for menu_LinksItem in menu_HeadingLinksList.find_elements_by_tag_name('li'):\n",
    "    linkObject = menu_LinksItem.find_element_by_tag_name('a')\n",
    "    linkURL = linkObject.get_attribute(\"href\")\n",
    "    if theOrderMenuHeading in linkURL:\n",
    "        print('Jumping to', theOrderMenuHeading)\n",
    "        print('Scrolling as required')\n",
    "        driver.execute_script(\"arguments[0].scrollIntoView(true)\", linkObject)\n",
    "        linkObject.click()\n",
    "        break\n",
    "\n",
    "for menu_Section in driver.find_elements_by_tag_name(\"section\"):\n",
    "    if menu_Section.get_attribute('data-test-id') == 'menu-category-item':\n",
    "        menu_H2 = menu_Section.find_element_by_css_selector(\"h2[data-js-test='menu-category-heading']\")\n",
    "        menu_H2_text = menu_H2.get_attribute('id')\n",
    "        if menu_H2_text == theOrderMenuHeading:\n",
    "            current_Menu_Section = menu_Section\n",
    "            print('-'*40)\n",
    "            break\n",
    "print('Selections in this item menu')\n",
    "for h3Tag in current_Menu_Section.find_elements_by_css_selector(\"h3[data-js-test='menu-item-name']\"):\n",
    "    print(h3Tag.text)\n",
    "print('-'*40)\n",
    "print('So now in right place for selected menu setion')"
   ]
  },
  {
   "cell_type": "markdown",
   "id": "284f4016-4160-423f-9331-9616affe44fa",
   "metadata": {},
   "source": [
    "### Find the selected item type, and click it\n",
    "\n",
    "#### Drinks available for section coffee-and-hot-drinks - Examples\n",
    "* Latte\n",
    "* Flat White\n",
    "* Mocha\n",
    "* Hot Chocolate\n",
    "* Americano\n",
    "* Filter Coffee\n",
    "* Gingerbread Latte\n",
    "\n",
    "now go down through the popup window to select the right milk type\n"
   ]
  },
  {
   "cell_type": "code",
   "execution_count": 4,
   "id": "fa0930f3-21a7-4016-820e-27e58e86a186",
   "metadata": {},
   "outputs": [
    {
     "name": "stdout",
     "output_type": "stream",
     "text": [
      "Program started run at UTC time:2021-11-11T212138Z\n",
      "Sectionchosen= coffee-and-hot-drinks\n",
      "Drink type chosen= Gingerbread Latte\n",
      "========================================\n",
      "Clicking button for Gingerbread Latte\n",
      "That should leave the popup offering selection of milk types\n"
     ]
    }
   ],
   "source": [
    "print(DateTimeStampUTC)\n",
    "print('Sectionchosen=', theOrderMenuHeading)\n",
    "print('Drink type chosen=', theItemType)\n",
    "print('='*40)\n",
    "\n",
    "current_Menu_Item = ''\n",
    "\n",
    "for menu_Item in current_Menu_Section.find_elements_by_css_selector(\"div[data-js-test='menu-item']\"):\n",
    "    h3Tag = menu_Item.find_element_by_css_selector(\"h3[data-js-test='menu-item-name']\")\n",
    "    if h3Tag.text == theItemType:\n",
    "        #print(\"Found the chosen subtype\", theItemType)\n",
    "        current_Menu_Item = menu_Item\n",
    "        break\n",
    "\n",
    "if current_Menu_Item == '':\n",
    "    print('Problem, did not find that item type')\n",
    "        \n",
    "theButton = current_Menu_Item.find_element_by_css_selector(\"button[type='button']\")\n",
    "# So we have found the item we want to click, now make it visible\n",
    "driver.execute_script(\"arguments[0].scrollIntoView(true)\", theButton)\n",
    "print('Clicking button for', h3Tag.text)\n",
    "theButton.click()\n",
    "print(\"That should leave the popup offering selection of milk types\")"
   ]
  },
  {
   "cell_type": "markdown",
   "id": "426ece8f-4643-409e-88df-658b80705133",
   "metadata": {},
   "source": [
    "### Here trying to select the milk type\n",
    "\n",
    "#### Milk types include\n",
    "* Flat White\n",
    "* Skinny Flat White\n",
    "* Oat Flat White\n",
    "* etc\n"
   ]
  },
  {
   "cell_type": "code",
   "execution_count": 5,
   "id": "aec6e4f0-407d-48ab-b9da-94c9c24b5553",
   "metadata": {},
   "outputs": [
    {
     "name": "stdout",
     "output_type": "stream",
     "text": [
      "Program started run at UTC time:2021-11-11T212138Z\n",
      "This block we go through the popup options and click one milk type\n"
     ]
    },
    {
     "ename": "<class 'selenium.common.exceptions.NoSuchElementException'>",
     "evalue": "Message: Unable to locate element: section[class='c-itemSelector-choices']\n",
     "output_type": "error",
     "traceback": [
      "\u001b[1;31m---------------------------------------------------------------------------\u001b[0m",
      "\u001b[1;31mNoSuchElementException\u001b[0m                    Traceback (most recent call last)",
      "\u001b[1;32mC:/Users/jr_edge/AppData/Local/Temp/xpython_18644/1228589528.py\u001b[0m in \u001b[0;36m<module>\u001b[1;34m\u001b[0m\n\u001b[0;32m      2\u001b[0m \u001b[0mprint\u001b[0m\u001b[1;33m(\u001b[0m\u001b[1;34m'This block we go through the popup options and click one milk type'\u001b[0m\u001b[1;33m)\u001b[0m\u001b[1;33m\u001b[0m\u001b[1;33m\u001b[0m\u001b[0m\n\u001b[0;32m      3\u001b[0m \u001b[0mtime\u001b[0m\u001b[1;33m.\u001b[0m\u001b[0msleep\u001b[0m\u001b[1;33m(\u001b[0m\u001b[1;36m5\u001b[0m\u001b[1;33m)\u001b[0m  \u001b[1;31m#wait, some elements we need not created yet\u001b[0m\u001b[1;33m\u001b[0m\u001b[1;33m\u001b[0m\u001b[0m\n\u001b[1;32m----> 4\u001b[1;33m \u001b[0mmilkChoiceList\u001b[0m \u001b[1;33m=\u001b[0m \u001b[0mdriver\u001b[0m\u001b[1;33m.\u001b[0m\u001b[0mfind_element_by_css_selector\u001b[0m\u001b[1;33m(\u001b[0m\u001b[1;34m\"section[class='c-itemSelector-choices']\"\u001b[0m\u001b[1;33m)\u001b[0m\u001b[1;33m\u001b[0m\u001b[1;33m\u001b[0m\u001b[0m\n\u001b[0m\u001b[0;32m      5\u001b[0m \u001b[0mdriver\u001b[0m\u001b[1;33m.\u001b[0m\u001b[0mexecute_script\u001b[0m\u001b[1;33m(\u001b[0m\u001b[1;34m\"arguments[0].scrollIntoView(true)\"\u001b[0m\u001b[1;33m,\u001b[0m \u001b[0mmilkChoiceList\u001b[0m\u001b[1;33m)\u001b[0m\u001b[1;33m\u001b[0m\u001b[1;33m\u001b[0m\u001b[0m\n\u001b[0;32m      6\u001b[0m \u001b[1;33m\u001b[0m\u001b[0m\n",
      "\u001b[1;32m~\\miniconda3\\envs\\xeus\\lib\\site-packages\\selenium\\webdriver\\remote\\webdriver.py\u001b[0m in \u001b[0;36mfind_element_by_css_selector\u001b[1;34m(self, css_selector)\u001b[0m\n\u001b[0;32m    596\u001b[0m             \u001b[0melement\u001b[0m \u001b[1;33m=\u001b[0m \u001b[0mdriver\u001b[0m\u001b[1;33m.\u001b[0m\u001b[0mfind_element_by_css_selector\u001b[0m\u001b[1;33m(\u001b[0m\u001b[1;34m'#foo'\u001b[0m\u001b[1;33m)\u001b[0m\u001b[1;33m\u001b[0m\u001b[1;33m\u001b[0m\u001b[0m\n\u001b[0;32m    597\u001b[0m         \"\"\"\n\u001b[1;32m--> 598\u001b[1;33m         \u001b[1;32mreturn\u001b[0m \u001b[0mself\u001b[0m\u001b[1;33m.\u001b[0m\u001b[0mfind_element\u001b[0m\u001b[1;33m(\u001b[0m\u001b[0mby\u001b[0m\u001b[1;33m=\u001b[0m\u001b[0mBy\u001b[0m\u001b[1;33m.\u001b[0m\u001b[0mCSS_SELECTOR\u001b[0m\u001b[1;33m,\u001b[0m \u001b[0mvalue\u001b[0m\u001b[1;33m=\u001b[0m\u001b[0mcss_selector\u001b[0m\u001b[1;33m)\u001b[0m\u001b[1;33m\u001b[0m\u001b[1;33m\u001b[0m\u001b[0m\n\u001b[0m\u001b[0;32m    599\u001b[0m \u001b[1;33m\u001b[0m\u001b[0m\n\u001b[0;32m    600\u001b[0m     \u001b[1;32mdef\u001b[0m \u001b[0mfind_elements_by_css_selector\u001b[0m\u001b[1;33m(\u001b[0m\u001b[0mself\u001b[0m\u001b[1;33m,\u001b[0m \u001b[0mcss_selector\u001b[0m\u001b[1;33m)\u001b[0m\u001b[1;33m:\u001b[0m\u001b[1;33m\u001b[0m\u001b[1;33m\u001b[0m\u001b[0m\n",
      "\u001b[1;32m~\\miniconda3\\envs\\xeus\\lib\\site-packages\\selenium\\webdriver\\remote\\webdriver.py\u001b[0m in \u001b[0;36mfind_element\u001b[1;34m(self, by, value)\u001b[0m\n\u001b[0;32m    974\u001b[0m                 \u001b[0mby\u001b[0m \u001b[1;33m=\u001b[0m \u001b[0mBy\u001b[0m\u001b[1;33m.\u001b[0m\u001b[0mCSS_SELECTOR\u001b[0m\u001b[1;33m\u001b[0m\u001b[1;33m\u001b[0m\u001b[0m\n\u001b[0;32m    975\u001b[0m                 \u001b[0mvalue\u001b[0m \u001b[1;33m=\u001b[0m \u001b[1;34m'[name=\"%s\"]'\u001b[0m \u001b[1;33m%\u001b[0m \u001b[0mvalue\u001b[0m\u001b[1;33m\u001b[0m\u001b[1;33m\u001b[0m\u001b[0m\n\u001b[1;32m--> 976\u001b[1;33m         return self.execute(Command.FIND_ELEMENT, {\n\u001b[0m\u001b[0;32m    977\u001b[0m             \u001b[1;34m'using'\u001b[0m\u001b[1;33m:\u001b[0m \u001b[0mby\u001b[0m\u001b[1;33m,\u001b[0m\u001b[1;33m\u001b[0m\u001b[1;33m\u001b[0m\u001b[0m\n\u001b[0;32m    978\u001b[0m             'value': value})['value']\n",
      "\u001b[1;32m~\\miniconda3\\envs\\xeus\\lib\\site-packages\\selenium\\webdriver\\remote\\webdriver.py\u001b[0m in \u001b[0;36mexecute\u001b[1;34m(self, driver_command, params)\u001b[0m\n\u001b[0;32m    319\u001b[0m         \u001b[0mresponse\u001b[0m \u001b[1;33m=\u001b[0m \u001b[0mself\u001b[0m\u001b[1;33m.\u001b[0m\u001b[0mcommand_executor\u001b[0m\u001b[1;33m.\u001b[0m\u001b[0mexecute\u001b[0m\u001b[1;33m(\u001b[0m\u001b[0mdriver_command\u001b[0m\u001b[1;33m,\u001b[0m \u001b[0mparams\u001b[0m\u001b[1;33m)\u001b[0m\u001b[1;33m\u001b[0m\u001b[1;33m\u001b[0m\u001b[0m\n\u001b[0;32m    320\u001b[0m         \u001b[1;32mif\u001b[0m \u001b[0mresponse\u001b[0m\u001b[1;33m:\u001b[0m\u001b[1;33m\u001b[0m\u001b[1;33m\u001b[0m\u001b[0m\n\u001b[1;32m--> 321\u001b[1;33m             \u001b[0mself\u001b[0m\u001b[1;33m.\u001b[0m\u001b[0merror_handler\u001b[0m\u001b[1;33m.\u001b[0m\u001b[0mcheck_response\u001b[0m\u001b[1;33m(\u001b[0m\u001b[0mresponse\u001b[0m\u001b[1;33m)\u001b[0m\u001b[1;33m\u001b[0m\u001b[1;33m\u001b[0m\u001b[0m\n\u001b[0m\u001b[0;32m    322\u001b[0m             response['value'] = self._unwrap_value(\n\u001b[0;32m    323\u001b[0m                 response.get('value', None))\n",
      "\u001b[1;32m~\\miniconda3\\envs\\xeus\\lib\\site-packages\\selenium\\webdriver\\remote\\errorhandler.py\u001b[0m in \u001b[0;36mcheck_response\u001b[1;34m(self, response)\u001b[0m\n\u001b[0;32m    240\u001b[0m                 \u001b[0malert_text\u001b[0m \u001b[1;33m=\u001b[0m \u001b[0mvalue\u001b[0m\u001b[1;33m[\u001b[0m\u001b[1;34m'alert'\u001b[0m\u001b[1;33m]\u001b[0m\u001b[1;33m.\u001b[0m\u001b[0mget\u001b[0m\u001b[1;33m(\u001b[0m\u001b[1;34m'text'\u001b[0m\u001b[1;33m)\u001b[0m\u001b[1;33m\u001b[0m\u001b[1;33m\u001b[0m\u001b[0m\n\u001b[0;32m    241\u001b[0m             \u001b[1;32mraise\u001b[0m \u001b[0mexception_class\u001b[0m\u001b[1;33m(\u001b[0m\u001b[0mmessage\u001b[0m\u001b[1;33m,\u001b[0m \u001b[0mscreen\u001b[0m\u001b[1;33m,\u001b[0m \u001b[0mstacktrace\u001b[0m\u001b[1;33m,\u001b[0m \u001b[0malert_text\u001b[0m\u001b[1;33m)\u001b[0m\u001b[1;33m\u001b[0m\u001b[1;33m\u001b[0m\u001b[0m\n\u001b[1;32m--> 242\u001b[1;33m         \u001b[1;32mraise\u001b[0m \u001b[0mexception_class\u001b[0m\u001b[1;33m(\u001b[0m\u001b[0mmessage\u001b[0m\u001b[1;33m,\u001b[0m \u001b[0mscreen\u001b[0m\u001b[1;33m,\u001b[0m \u001b[0mstacktrace\u001b[0m\u001b[1;33m)\u001b[0m\u001b[1;33m\u001b[0m\u001b[1;33m\u001b[0m\u001b[0m\n\u001b[0m\u001b[0;32m    243\u001b[0m \u001b[1;33m\u001b[0m\u001b[0m\n\u001b[0;32m    244\u001b[0m     \u001b[1;32mdef\u001b[0m \u001b[0m_value_or_default\u001b[0m\u001b[1;33m(\u001b[0m\u001b[0mself\u001b[0m\u001b[1;33m,\u001b[0m \u001b[0mobj\u001b[0m\u001b[1;33m,\u001b[0m \u001b[0mkey\u001b[0m\u001b[1;33m,\u001b[0m \u001b[0mdefault\u001b[0m\u001b[1;33m)\u001b[0m\u001b[1;33m:\u001b[0m\u001b[1;33m\u001b[0m\u001b[1;33m\u001b[0m\u001b[0m\n",
      "\u001b[1;31mNoSuchElementException\u001b[0m: Message: Unable to locate element: section[class='c-itemSelector-choices']\n"
     ]
    }
   ],
   "source": [
    "print(DateTimeStampUTC)\n",
    "print('This block we go through the popup options and click one milk type')\n",
    "time.sleep(5)  #wait, some elements we need not created yet\n",
    "milkChoiceList = driver.find_element_by_css_selector(\"section[class='c-itemSelector-choices']\")\n",
    "driver.execute_script(\"arguments[0].scrollIntoView(true)\", milkChoiceList)\n",
    "\n",
    "current_SubType_Span = ''\n",
    "for someMilkOption in milkChoiceList.find_elements_by_class_name('c-itemSelector-section-row'):\n",
    "    subTypeSpan = someMilkOption.find_element_by_css_selector(\"span[data-test-id='single-select-name']\")\n",
    "    if subTypeSpan.text == theItemSubType:\n",
    "        print('Section found with chosen milk type', theItemSubType)\n",
    "        current_SubType_Span = subTypeSpan\n",
    "        break\n",
    "\n",
    "if current_SubType_Span == '':\n",
    "    print('Cannot find milk type', theItemSubType)\n",
    "else:\n",
    "    #radioButton = current_Subtype_Item.find_element_by_css_selector(\"input[type='radio']\")\n",
    "    driver.execute_script(\"arguments[0].scrollIntoView(true)\", current_SubType_Span)\n",
    "    current_SubType_Span.click()\n",
    "    print('Button clicked, we should see the add to order button now')\n",
    "\n",
    "print(\"So now we have selected category, drink type, milk type - and can click on 'Add to Order'\")"
   ]
  },
  {
   "cell_type": "markdown",
   "id": "ed2c8314-8e35-4ea6-813d-4b80be36156b",
   "metadata": {},
   "source": [
    "### NOw click the final button\n",
    "\n",
    "<div class=\"c-modal-actions\">\n",
    "    <button type=\"button\" data-test-id=\"add-to-basket\"\n",
    "            class=\"o-btn o-btn--primary o-btn--fullWidth u-spacingTop u-spaceBetween\">\n",
    "        <span>  Add to order  </span> \n",
    "        <span data-test-id=\"total-price\" class=\"notranslate\">  £3.25  </span>\n",
    "    </button>\n",
    "</div>"
   ]
  },
  {
   "cell_type": "code",
   "execution_count": null,
   "id": "d1179ed8-314f-4df8-961a-8169c519b6ea",
   "metadata": {},
   "outputs": [],
   "source": [
    "print(DateTimeStampUTC)\n",
    "print('Now click the Add-to-order button')\n",
    "AddToOrderButtonObject = driver.find_element_by_class_name('c-modal-actions')\n",
    "AddToOrderButtonObject.click()\n"
   ]
  },
  {
   "cell_type": "markdown",
   "id": "20a9d742-7668-4c60-b903-f88f936af7ce",
   "metadata": {},
   "source": [
    "### Now the postcode button\n",
    "\n",
    "<div class=\"Form_c-search-fieldWrapper_PaaDD\">\n",
    "    <div class=\"Form_c-search-inputWrapper_1b2Cy\">\n",
    "        <label class=\"Form_c-search-label_cVBKJ\">\n",
    "            <input name=\"postcode\" data-test-id=\"address-box-input\" aria-label=\"Enter your postcode\" autocomplete=\"on\" class=\"Form_c-search-input_3ySg3\" isnumeric=\"false\" type=\"text\">\n",
    "            <span class=\"Form_c-search-placeholder_2F0h-\">Enter your postcode</span>\n",
    "            <div class=\"Form_c-spinner-wrapper_2aNvK\"></div>\n",
    "        </label><div class=\"Form_c-search-innerFields_1L7FI\">\n",
    "    </div>\n",
    "    <button type=\"submit\" data-test-id=\"find-restaurants-button\" aria-label=\"Confirm\" class=\"Form_c-search-btn_2cjDI\">\n",
    "        <div class=\"Form_c-search-btn-icon_mWFQK\">\n",
    "            <span class=\"u-showBelowMid\">  OK   </span>\n",
    "        </div>\n",
    "        <span class=\"Form_c-search-btn-text_6RDDX\">Confirm</span>\n",
    "    </button>\n",
    "</div>"
   ]
  },
  {
   "cell_type": "code",
   "execution_count": null,
   "id": "bdfc0006-a74f-4a5a-a3a2-200e50e1e264",
   "metadata": {},
   "outputs": [],
   "source": [
    "print(DateTimeStampUTC)\n",
    "print('Now enter postcode and click the Add-to-order button')\n",
    "PostCodeDialogDiv = driver.find_element_by_class_name('Form_c-search-fieldWrapper_PaaDD')\n",
    "\n",
    "#enter postcode\n",
    "PostCodeEntryInput = PostCodeDialogDiv.find_element_by_tag_name('input')\n",
    "PostCodeEntryInput.send_keys(thePostCode)\n",
    "\n",
    "#click to confirm\n",
    "PostCodeDialogDiv.find_element_by_class_name('Form_c-search-btn-text_6RDDX').click()\n"
   ]
  },
  {
   "cell_type": "code",
   "execution_count": null,
   "id": "50f07cf8-773b-457e-b821-88b273cad15a",
   "metadata": {},
   "outputs": [],
   "source": []
  }
 ],
 "metadata": {
  "kernelspec": {
   "display_name": "Python 3.9 (XPython)",
   "language": "python",
   "name": "xpython"
  },
  "language_info": {
   "file_extension": ".py",
   "mimetype": "text/x-python",
   "name": "python",
   "version": "3.9.7"
  }
 },
 "nbformat": 4,
 "nbformat_minor": 5
}
